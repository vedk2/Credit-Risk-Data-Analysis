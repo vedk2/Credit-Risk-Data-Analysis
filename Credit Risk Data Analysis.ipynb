{
 "cells": [
  {
   "cell_type": "markdown",
   "metadata": {},
   "source": [
    "# German Credit Risk Dataset Analysis \n",
    "\n",
    "Ved Kulkarni"
   ]
  },
  {
   "cell_type": "markdown",
   "metadata": {},
   "source": [
    "## 1. Introduction"
   ]
  },
  {
   "cell_type": "markdown",
   "metadata": {},
   "source": [
   ]
  },
  {
   "cell_type": "markdown",
   "metadata": {},
   "source": [
    "I was interested in conducting a data analysis project on this dataset as it could help me develop skills in financial analytics."
   ]
  },
  {
   "cell_type": "markdown",
   "metadata": {},
   "source": [
    "Research Question: What is the relationship between the type of housing (own, rent, or free) and the credit amount requested by the applicants in the German Credit Data?\"\n"
   ]
  },
  {
   "cell_type": "markdown",
   "metadata": {},
   "source": [
    "Why is this important: Understanding how housing status affects the amount of credit requested can reveal different risk levels among borrowers. For example, people who own their homes may have different financial needs compared to those who rent or live in free housing. This information helps banks create better credit scoring models and design loan products that fit each group. It also helps prevent loan defaults by identifying potential risks early. Overall, this understanding supports better decision-making and financial stability."
   ]
  },
  {
   "cell_type": "code",
   "execution_count": 103,
   "metadata": {},
   "outputs": [],
   "source": [
    "import pandas as pd                    # imports pandas and calls the imported version 'pd'\n",
    "import matplotlib.pyplot as plt        # imports the package and calls it 'plt'\n",
    "import seaborn as sns                  # imports the seaborn package with the imported name 'sns'\n",
    "sns.set() "
   ]
  },
  {
   "cell_type": "code",
   "execution_count": 104,
   "metadata": {},
   "outputs": [
    {
     "data": {
      "text/html": [
       "<div>\n",
       "<style scoped>\n",
       "    .dataframe tbody tr th:only-of-type {\n",
       "        vertical-align: middle;\n",
       "    }\n",
       "\n",
       "    .dataframe tbody tr th {\n",
       "        vertical-align: top;\n",
       "    }\n",
       "\n",
       "    .dataframe thead th {\n",
       "        text-align: right;\n",
       "    }\n",
       "</style>\n",
       "<table border=\"1\" class=\"dataframe\">\n",
       "  <thead>\n",
       "    <tr style=\"text-align: right;\">\n",
       "      <th></th>\n",
       "      <th>Unnamed: 0</th>\n",
       "      <th>Age</th>\n",
       "      <th>Sex</th>\n",
       "      <th>Job</th>\n",
       "      <th>Housing</th>\n",
       "      <th>Saving accounts</th>\n",
       "      <th>Checking account</th>\n",
       "      <th>Credit amount</th>\n",
       "      <th>Duration</th>\n",
       "      <th>Purpose</th>\n",
       "    </tr>\n",
       "  </thead>\n",
       "  <tbody>\n",
       "    <tr>\n",
       "      <th>0</th>\n",
       "      <td>0</td>\n",
       "      <td>67</td>\n",
       "      <td>male</td>\n",
       "      <td>2</td>\n",
       "      <td>own</td>\n",
       "      <td>NaN</td>\n",
       "      <td>little</td>\n",
       "      <td>1169</td>\n",
       "      <td>6</td>\n",
       "      <td>radio/TV</td>\n",
       "    </tr>\n",
       "    <tr>\n",
       "      <th>1</th>\n",
       "      <td>1</td>\n",
       "      <td>22</td>\n",
       "      <td>female</td>\n",
       "      <td>2</td>\n",
       "      <td>own</td>\n",
       "      <td>little</td>\n",
       "      <td>moderate</td>\n",
       "      <td>5951</td>\n",
       "      <td>48</td>\n",
       "      <td>radio/TV</td>\n",
       "    </tr>\n",
       "    <tr>\n",
       "      <th>2</th>\n",
       "      <td>2</td>\n",
       "      <td>49</td>\n",
       "      <td>male</td>\n",
       "      <td>1</td>\n",
       "      <td>own</td>\n",
       "      <td>little</td>\n",
       "      <td>NaN</td>\n",
       "      <td>2096</td>\n",
       "      <td>12</td>\n",
       "      <td>education</td>\n",
       "    </tr>\n",
       "    <tr>\n",
       "      <th>3</th>\n",
       "      <td>3</td>\n",
       "      <td>45</td>\n",
       "      <td>male</td>\n",
       "      <td>2</td>\n",
       "      <td>free</td>\n",
       "      <td>little</td>\n",
       "      <td>little</td>\n",
       "      <td>7882</td>\n",
       "      <td>42</td>\n",
       "      <td>furniture/equipment</td>\n",
       "    </tr>\n",
       "    <tr>\n",
       "      <th>4</th>\n",
       "      <td>4</td>\n",
       "      <td>53</td>\n",
       "      <td>male</td>\n",
       "      <td>2</td>\n",
       "      <td>free</td>\n",
       "      <td>little</td>\n",
       "      <td>little</td>\n",
       "      <td>4870</td>\n",
       "      <td>24</td>\n",
       "      <td>car</td>\n",
       "    </tr>\n",
       "    <tr>\n",
       "      <th>...</th>\n",
       "      <td>...</td>\n",
       "      <td>...</td>\n",
       "      <td>...</td>\n",
       "      <td>...</td>\n",
       "      <td>...</td>\n",
       "      <td>...</td>\n",
       "      <td>...</td>\n",
       "      <td>...</td>\n",
       "      <td>...</td>\n",
       "      <td>...</td>\n",
       "    </tr>\n",
       "    <tr>\n",
       "      <th>995</th>\n",
       "      <td>995</td>\n",
       "      <td>31</td>\n",
       "      <td>female</td>\n",
       "      <td>1</td>\n",
       "      <td>own</td>\n",
       "      <td>little</td>\n",
       "      <td>NaN</td>\n",
       "      <td>1736</td>\n",
       "      <td>12</td>\n",
       "      <td>furniture/equipment</td>\n",
       "    </tr>\n",
       "    <tr>\n",
       "      <th>996</th>\n",
       "      <td>996</td>\n",
       "      <td>40</td>\n",
       "      <td>male</td>\n",
       "      <td>3</td>\n",
       "      <td>own</td>\n",
       "      <td>little</td>\n",
       "      <td>little</td>\n",
       "      <td>3857</td>\n",
       "      <td>30</td>\n",
       "      <td>car</td>\n",
       "    </tr>\n",
       "    <tr>\n",
       "      <th>997</th>\n",
       "      <td>997</td>\n",
       "      <td>38</td>\n",
       "      <td>male</td>\n",
       "      <td>2</td>\n",
       "      <td>own</td>\n",
       "      <td>little</td>\n",
       "      <td>NaN</td>\n",
       "      <td>804</td>\n",
       "      <td>12</td>\n",
       "      <td>radio/TV</td>\n",
       "    </tr>\n",
       "    <tr>\n",
       "      <th>998</th>\n",
       "      <td>998</td>\n",
       "      <td>23</td>\n",
       "      <td>male</td>\n",
       "      <td>2</td>\n",
       "      <td>free</td>\n",
       "      <td>little</td>\n",
       "      <td>little</td>\n",
       "      <td>1845</td>\n",
       "      <td>45</td>\n",
       "      <td>radio/TV</td>\n",
       "    </tr>\n",
       "    <tr>\n",
       "      <th>999</th>\n",
       "      <td>999</td>\n",
       "      <td>27</td>\n",
       "      <td>male</td>\n",
       "      <td>2</td>\n",
       "      <td>own</td>\n",
       "      <td>moderate</td>\n",
       "      <td>moderate</td>\n",
       "      <td>4576</td>\n",
       "      <td>45</td>\n",
       "      <td>car</td>\n",
       "    </tr>\n",
       "  </tbody>\n",
       "</table>\n",
       "<p>1000 rows × 10 columns</p>\n",
       "</div>"
      ],
      "text/plain": [
       "     Unnamed: 0  Age     Sex  Job Housing Saving accounts Checking account   \n",
       "0             0   67    male    2     own             NaN           little  \\\n",
       "1             1   22  female    2     own          little         moderate   \n",
       "2             2   49    male    1     own          little              NaN   \n",
       "3             3   45    male    2    free          little           little   \n",
       "4             4   53    male    2    free          little           little   \n",
       "..          ...  ...     ...  ...     ...             ...              ...   \n",
       "995         995   31  female    1     own          little              NaN   \n",
       "996         996   40    male    3     own          little           little   \n",
       "997         997   38    male    2     own          little              NaN   \n",
       "998         998   23    male    2    free          little           little   \n",
       "999         999   27    male    2     own        moderate         moderate   \n",
       "\n",
       "     Credit amount  Duration              Purpose  \n",
       "0             1169         6             radio/TV  \n",
       "1             5951        48             radio/TV  \n",
       "2             2096        12            education  \n",
       "3             7882        42  furniture/equipment  \n",
       "4             4870        24                  car  \n",
       "..             ...       ...                  ...  \n",
       "995           1736        12  furniture/equipment  \n",
       "996           3857        30                  car  \n",
       "997            804        12             radio/TV  \n",
       "998           1845        45             radio/TV  \n",
       "999           4576        45                  car  \n",
       "\n",
       "[1000 rows x 10 columns]"
      ]
     },
     "execution_count": 104,
     "metadata": {},
     "output_type": "execute_result"
    }
   ],
   "source": [
    "df = pd.read_csv(\"german_credit_data.csv\")\n",
    "df"
   ]
  },
  {
   "cell_type": "code",
   "execution_count": 105,
   "metadata": {},
   "outputs": [
    {
     "data": {
      "text/html": [
       "<div>\n",
       "<style scoped>\n",
       "    .dataframe tbody tr th:only-of-type {\n",
       "        vertical-align: middle;\n",
       "    }\n",
       "\n",
       "    .dataframe tbody tr th {\n",
       "        vertical-align: top;\n",
       "    }\n",
       "\n",
       "    .dataframe thead th {\n",
       "        text-align: right;\n",
       "    }\n",
       "</style>\n",
       "<table border=\"1\" class=\"dataframe\">\n",
       "  <thead>\n",
       "    <tr style=\"text-align: right;\">\n",
       "      <th></th>\n",
       "      <th>Unnamed: 0</th>\n",
       "      <th>Age</th>\n",
       "      <th>Sex</th>\n",
       "      <th>Job</th>\n",
       "      <th>Housing</th>\n",
       "      <th>Saving accounts</th>\n",
       "      <th>Checking account</th>\n",
       "      <th>Credit amount</th>\n",
       "      <th>Duration</th>\n",
       "      <th>Purpose</th>\n",
       "    </tr>\n",
       "  </thead>\n",
       "  <tbody>\n",
       "    <tr>\n",
       "      <th>0</th>\n",
       "      <td>0</td>\n",
       "      <td>67</td>\n",
       "      <td>male</td>\n",
       "      <td>2</td>\n",
       "      <td>own</td>\n",
       "      <td>NaN</td>\n",
       "      <td>little</td>\n",
       "      <td>1169</td>\n",
       "      <td>6</td>\n",
       "      <td>radio/TV</td>\n",
       "    </tr>\n",
       "    <tr>\n",
       "      <th>1</th>\n",
       "      <td>1</td>\n",
       "      <td>22</td>\n",
       "      <td>female</td>\n",
       "      <td>2</td>\n",
       "      <td>own</td>\n",
       "      <td>little</td>\n",
       "      <td>moderate</td>\n",
       "      <td>5951</td>\n",
       "      <td>48</td>\n",
       "      <td>radio/TV</td>\n",
       "    </tr>\n",
       "    <tr>\n",
       "      <th>2</th>\n",
       "      <td>2</td>\n",
       "      <td>49</td>\n",
       "      <td>male</td>\n",
       "      <td>1</td>\n",
       "      <td>own</td>\n",
       "      <td>little</td>\n",
       "      <td>NaN</td>\n",
       "      <td>2096</td>\n",
       "      <td>12</td>\n",
       "      <td>education</td>\n",
       "    </tr>\n",
       "    <tr>\n",
       "      <th>3</th>\n",
       "      <td>3</td>\n",
       "      <td>45</td>\n",
       "      <td>male</td>\n",
       "      <td>2</td>\n",
       "      <td>free</td>\n",
       "      <td>little</td>\n",
       "      <td>little</td>\n",
       "      <td>7882</td>\n",
       "      <td>42</td>\n",
       "      <td>furniture/equipment</td>\n",
       "    </tr>\n",
       "    <tr>\n",
       "      <th>4</th>\n",
       "      <td>4</td>\n",
       "      <td>53</td>\n",
       "      <td>male</td>\n",
       "      <td>2</td>\n",
       "      <td>free</td>\n",
       "      <td>little</td>\n",
       "      <td>little</td>\n",
       "      <td>4870</td>\n",
       "      <td>24</td>\n",
       "      <td>car</td>\n",
       "    </tr>\n",
       "  </tbody>\n",
       "</table>\n",
       "</div>"
      ],
      "text/plain": [
       "   Unnamed: 0  Age     Sex  Job Housing Saving accounts Checking account   \n",
       "0           0   67    male    2     own             NaN           little  \\\n",
       "1           1   22  female    2     own          little         moderate   \n",
       "2           2   49    male    1     own          little              NaN   \n",
       "3           3   45    male    2    free          little           little   \n",
       "4           4   53    male    2    free          little           little   \n",
       "\n",
       "   Credit amount  Duration              Purpose  \n",
       "0           1169         6             radio/TV  \n",
       "1           5951        48             radio/TV  \n",
       "2           2096        12            education  \n",
       "3           7882        42  furniture/equipment  \n",
       "4           4870        24                  car  "
      ]
     },
     "execution_count": 105,
     "metadata": {},
     "output_type": "execute_result"
    }
   ],
   "source": [
    "df.head()"
   ]
  },
  {
   "cell_type": "markdown",
   "metadata": {},
   "source": [
    "## 2. Dataset Discussion"
   ]
  },
  {
   "cell_type": "markdown",
   "metadata": {},
   "source": [
    "The dataset used in this analysis is the German Credit Data, accessed from Kaggle on September 24, 2024. It is available at Kaggle: German Credit Data (https://www.kaggle.com/datasets/uciml/german-credit). The dataset does not have an accompanying codebook, but it contains information on various financial and personal attributes of credit applicants, which is useful for credit risk analysis. The data was originally collected from German credit applicants and includes details about their personal characteristics, credit amount, loan purpose, and financial status. It is commonly used for classification tasks in credit scoring research and education. The dataset consists of 1000 rows and 10 columns. Each row represents an individual applicant’s credit record. Below are 6 sample observations from the dataset. The unit of observation is an individual credit applicant. Each row in the dataset corresponds to one applicant's credit request and their associated attributes, such as age, housing status, and credit amount requested. For this analysis, I have selected two variables of interest: Quantitative Variable: Credit amount – the amount of credit requested by the applicant. Categorical Variable: Housing – the housing status of the applicant, which includes categories like own, rent, and free. One limitation of the dataset is the absence of critical financial variables like income, employment status, and credit history length, which are essential for a more accurate assessment of credit risk. Additionally, ethical considerations must be taken into account when using personal financial data to ensure privacy and avoid discrimination in credit scoring. Including variables like income and employment stability could significantly enhance the predictive power of this dataset.\n",
    "\n"
   ]
  },
  {
   "cell_type": "code",
   "execution_count": 106,
   "metadata": {},
   "outputs": [
    {
     "data": {
      "text/html": [
       "<div>\n",
       "<style scoped>\n",
       "    .dataframe tbody tr th:only-of-type {\n",
       "        vertical-align: middle;\n",
       "    }\n",
       "\n",
       "    .dataframe tbody tr th {\n",
       "        vertical-align: top;\n",
       "    }\n",
       "\n",
       "    .dataframe thead th {\n",
       "        text-align: right;\n",
       "    }\n",
       "</style>\n",
       "<table border=\"1\" class=\"dataframe\">\n",
       "  <thead>\n",
       "    <tr style=\"text-align: right;\">\n",
       "      <th></th>\n",
       "      <th>Unnamed: 0</th>\n",
       "      <th>Age</th>\n",
       "      <th>Sex</th>\n",
       "      <th>Job</th>\n",
       "      <th>Housing</th>\n",
       "      <th>Saving accounts</th>\n",
       "      <th>Checking account</th>\n",
       "      <th>Credit amount</th>\n",
       "      <th>Duration</th>\n",
       "      <th>Purpose</th>\n",
       "    </tr>\n",
       "  </thead>\n",
       "  <tbody>\n",
       "    <tr>\n",
       "      <th>0</th>\n",
       "      <td>0</td>\n",
       "      <td>67</td>\n",
       "      <td>male</td>\n",
       "      <td>2</td>\n",
       "      <td>own</td>\n",
       "      <td>NaN</td>\n",
       "      <td>little</td>\n",
       "      <td>1169</td>\n",
       "      <td>6</td>\n",
       "      <td>radio/TV</td>\n",
       "    </tr>\n",
       "    <tr>\n",
       "      <th>1</th>\n",
       "      <td>1</td>\n",
       "      <td>22</td>\n",
       "      <td>female</td>\n",
       "      <td>2</td>\n",
       "      <td>own</td>\n",
       "      <td>little</td>\n",
       "      <td>moderate</td>\n",
       "      <td>5951</td>\n",
       "      <td>48</td>\n",
       "      <td>radio/TV</td>\n",
       "    </tr>\n",
       "    <tr>\n",
       "      <th>2</th>\n",
       "      <td>2</td>\n",
       "      <td>49</td>\n",
       "      <td>male</td>\n",
       "      <td>1</td>\n",
       "      <td>own</td>\n",
       "      <td>little</td>\n",
       "      <td>NaN</td>\n",
       "      <td>2096</td>\n",
       "      <td>12</td>\n",
       "      <td>education</td>\n",
       "    </tr>\n",
       "    <tr>\n",
       "      <th>3</th>\n",
       "      <td>3</td>\n",
       "      <td>45</td>\n",
       "      <td>male</td>\n",
       "      <td>2</td>\n",
       "      <td>free</td>\n",
       "      <td>little</td>\n",
       "      <td>little</td>\n",
       "      <td>7882</td>\n",
       "      <td>42</td>\n",
       "      <td>furniture/equipment</td>\n",
       "    </tr>\n",
       "    <tr>\n",
       "      <th>4</th>\n",
       "      <td>4</td>\n",
       "      <td>53</td>\n",
       "      <td>male</td>\n",
       "      <td>2</td>\n",
       "      <td>free</td>\n",
       "      <td>little</td>\n",
       "      <td>little</td>\n",
       "      <td>4870</td>\n",
       "      <td>24</td>\n",
       "      <td>car</td>\n",
       "    </tr>\n",
       "    <tr>\n",
       "      <th>5</th>\n",
       "      <td>5</td>\n",
       "      <td>35</td>\n",
       "      <td>male</td>\n",
       "      <td>1</td>\n",
       "      <td>free</td>\n",
       "      <td>NaN</td>\n",
       "      <td>NaN</td>\n",
       "      <td>9055</td>\n",
       "      <td>36</td>\n",
       "      <td>education</td>\n",
       "    </tr>\n",
       "  </tbody>\n",
       "</table>\n",
       "</div>"
      ],
      "text/plain": [
       "   Unnamed: 0  Age     Sex  Job Housing Saving accounts Checking account   \n",
       "0           0   67    male    2     own             NaN           little  \\\n",
       "1           1   22  female    2     own          little         moderate   \n",
       "2           2   49    male    1     own          little              NaN   \n",
       "3           3   45    male    2    free          little           little   \n",
       "4           4   53    male    2    free          little           little   \n",
       "5           5   35    male    1    free             NaN              NaN   \n",
       "\n",
       "   Credit amount  Duration              Purpose  \n",
       "0           1169         6             radio/TV  \n",
       "1           5951        48             radio/TV  \n",
       "2           2096        12            education  \n",
       "3           7882        42  furniture/equipment  \n",
       "4           4870        24                  car  \n",
       "5           9055        36            education  "
      ]
     },
     "execution_count": 106,
     "metadata": {},
     "output_type": "execute_result"
    }
   ],
   "source": [
    "df.head(6)"
   ]
  },
  {
   "cell_type": "markdown",
   "metadata": {},
   "source": [
    "## 3. Dataset Cleaning"
   ]
  },
  {
   "cell_type": "markdown",
   "metadata": {},
   "source": [
    "Checking for missing values:"
   ]
  },
  {
   "cell_type": "code",
   "execution_count": 107,
   "metadata": {},
   "outputs": [
    {
     "data": {
      "text/plain": [
       "Unnamed: 0           int64\n",
       "Age                  int64\n",
       "Sex                 object\n",
       "Job                  int64\n",
       "Housing             object\n",
       "Saving accounts     object\n",
       "Checking account    object\n",
       "Credit amount        int64\n",
       "Duration             int64\n",
       "Purpose             object\n",
       "dtype: object"
      ]
     },
     "execution_count": 107,
     "metadata": {},
     "output_type": "execute_result"
    }
   ],
   "source": [
    "df.dtypes"
   ]
  },
  {
   "cell_type": "code",
   "execution_count": 108,
   "metadata": {},
   "outputs": [
    {
     "data": {
      "text/plain": [
       "Unnamed: 0            0\n",
       "Age                   0\n",
       "Sex                   0\n",
       "Job                   0\n",
       "Housing               0\n",
       "Saving accounts     183\n",
       "Checking account    394\n",
       "Credit amount         0\n",
       "Duration              0\n",
       "Purpose               0\n",
       "dtype: int64"
      ]
     },
     "execution_count": 108,
     "metadata": {},
     "output_type": "execute_result"
    }
   ],
   "source": [
    "df.isna().sum()"
   ]
  },
  {
   "cell_type": "code",
   "execution_count": 109,
   "metadata": {},
   "outputs": [
    {
     "data": {
      "text/plain": [
       "array([ 1169,  5951,  2096,  7882,  4870,  9055,  2835,  6948,  3059,\n",
       "        5234,  1295,  4308,  1567,  1199,  1403,  1282,  2424,  8072,\n",
       "       12579,  3430,  2134,  2647,  2241,  1804,  2069,  1374,   426,\n",
       "         409,  2415,  6836,  1913,  4020,  5866,  1264,  1474,  4746,\n",
       "        6110,  2100,  1225,   458,  2333,  1158,  6204,  6187,  6143,\n",
       "        1393,  2299,  1352,  7228,  2073,  5965,  1262,  3378,  2225,\n",
       "         783,  6468,  9566,  1961,  6229,  1391,  1537,  1953, 14421,\n",
       "        3181,  5190,  2171,  1007,  1819,  2394,  8133,   730,  1164,\n",
       "        5954,  1977,  1526,  3965,  4771,  9436,  3832,  5943,  1213,\n",
       "        1568,  1755,  2315,  1412, 12612,  2249,  1108,   618,  1409,\n",
       "         797,  3617,  1318, 15945,  2012,  2622,  2337,  7057,  1469,\n",
       "        2323,   932,  1919,  2445, 11938,  6458,  6078,  7721,  1410,\n",
       "        1449,   392,  6260,  7855,  1680,  3578,  7174,  2132,  4281,\n",
       "        2366,  1835,  3868,  1768,   781,  1924,  2121,   701,   639,\n",
       "        1860,  3499,  8487,  6887,  2708,  1984, 10144,  1240,  8613,\n",
       "         766,  2728,  1881,   709,  4795,  3416,  2462,  2288,  3566,\n",
       "         860,   682,  5371,  1582,  1346,  5848,  7758,  6967,  1288,\n",
       "         339,  3512,  1898,  2872,  1055,  7308,   909,  2978,  1131,\n",
       "        1577,  3972,  1935,   950,   763,  2064,  1414,  3414,  7485,\n",
       "        2577,   338,  1963,   571,  9572,  4455,  1647,  3777,   884,\n",
       "        1360,  5129,  1175,   674,  3244,  4591,  3844,  3915,  2108,\n",
       "        3031,  1501,  1382,   951,  2760,  4297,   936,  1168,  5117,\n",
       "         902,  1495, 10623,  1424,  6568,  1413,  3074,  3835,  5293,\n",
       "        1908,  3342,  3104,  3913,  3021,  1364,   625,  1200,   707,\n",
       "        4657,  2613, 10961,  7865,  1478,  3149,  4210,  2507,  2141,\n",
       "         866,  1544,  1823, 14555,  2767,  1291,  2522,   915,  1595,\n",
       "        4605,  1185,  3447,  1258,   717,  1204,  1925,   433,   666,\n",
       "        2251,  2150,  4151,  2030,  7418,  2684,  2149,  3812,  1154,\n",
       "        1657,  1603,  5302,  2748,  1231,   802,  6304,  1533,  8978,\n",
       "         999,  2662,  1402, 12169,  3060, 11998,  2697,  2404,  4611,\n",
       "        1901,  3368,  1574,  1445,  1520,  3878, 10722,  4788,  7582,\n",
       "        1092,  1024,  1076,  9398,  6419,  4796,  7629,  9960,  4675,\n",
       "        1287,  2515,  2745,   672,  3804,  1344,  1038, 10127,  1543,\n",
       "        4811,   727,  1237,   276,  5381,  5511,  3749,   685,  1494,\n",
       "        2746,   708,  4351,  3643,  4249,  1938,  2910,  2659,  1028,\n",
       "        3398,  5801,  1525,  4473,  1068,  6615,  1864,  7408, 11590,\n",
       "        4110,  3384,  2101,  1275,  4169,  1521,  5743,  3599,  3213,\n",
       "        4439,  3949,  1459,   882,  3758,  1743,  1136,  1236,   959,\n",
       "        3229,  6199,  1246,  2331,  4463,   776,  2406,  1239,  3399,\n",
       "        2247,  1766,  2473,  1542,  3850,  3650,  3446,  3001,  3079,\n",
       "        6070,  2146, 13756, 14782,  7685,  2320,   846, 14318,   362,\n",
       "        2212, 12976,  1283,  1330,  4272,  2238,  1126,  7374,  2326,\n",
       "        1820,   983,  3249,  1957, 11760,  2578,  2348,  1223,  1516,\n",
       "        1473,  1887,  8648,  2899,  2039,  2197,  1053,  3235,   939,\n",
       "        1967,  7253,  2292,  1597,  1381,  5842,  2579,  8471,  2782,\n",
       "        1042,  3186,  2028,   958,  1591,  2762,  2779,  2743,  1149,\n",
       "        1313,  1190,  3448, 11328,  1872,  2058,  2136,  1484,   660,\n",
       "        3394,   609,  1884,  1620,  2629,   719,  5096,  1244,  1842,\n",
       "        2576,  1512, 11054,   518,  2759,  2670,  4817,  2679,  3905,\n",
       "        3386,   343,  4594,  3620,  1721,  3017,   754,  1950,  2924,\n",
       "        1659,  7238,  2764,  4679,  3092,   448,   654,  1238,  1245,\n",
       "        3114,  2569,  5152,  1037,  3573,  1201,  3622,   960,  1163,\n",
       "        1209,  3077,  3757,  1418,  3518,  1934,  8318,   368,  2122,\n",
       "        2996,  9034,  1585,  1301,  1323,  3123,  5493,  1216,  1207,\n",
       "        1309,  2360,  6850,  8588,   759,  4686,  2687,   585,  2255,\n",
       "        1361,  7127,  1203,   700,  5507,  3190,  7119,  3488,  1113,\n",
       "        7966,  1532,  1503,  2302,   662,  2273,  2631,  1311,  3105,\n",
       "        2319,  3612,  7763,  3049,  1534,  2032,  6350,  2864,  1255,\n",
       "        1333,  2022,  1552,   626,  8858,   996,  1750,  6999,  1995,\n",
       "        1331,  2278,  5003,  3552,  1928,  2964,  1546,   683, 12389,\n",
       "        4712,  1553,  1372,  3979,  6758,  3234,  5433,   806,  1082,\n",
       "        2788,  2930,  1927,  2820,   937,  1056,  3124,  1388,  2384,\n",
       "        2133,  2799,  1289,  1217,  2246,   385,  1965,  1572,  2718,\n",
       "        1358,   931,  1442,  4241,  2775,  3863,  2329,   918,  1837,\n",
       "        3349,  2828,  4526,  2671,  2051,  1300,   741,  3357,  3632,\n",
       "        1808, 12204,  9157,  3676,  3441,   640,  3652,  1530,  3914,\n",
       "        1858,  2600,  1979,  2116,  1437,  4042,  3660,  1444,  1980,\n",
       "        1355,  1376, 15653,  1493,  4370,   750,  1308,  4623,  1851,\n",
       "        1880,  7980,  4583,  1386,   947,   684,  7476,  1922,  2303,\n",
       "        8086,  2346,  3973,   888, 10222,  4221,  6361,  1297,   900,\n",
       "        1050,  1047,  6314,  3496,  3609,  4843,  4139,  5742, 10366,\n",
       "        2080,  2580,  4530,  5150,  5595,  1453,  1538,  2279,  5103,\n",
       "        9857,  6527,  1347,  2862,  2753,  3651,   975,  2896,  4716,\n",
       "        2284,  1103,   926,  1800,  1905,  1123,  6331,  1377,  2503,\n",
       "        2528,  5324,  6560,  2969,  1206,  2118,   629,  1198,  2476,\n",
       "        1138, 14027,  7596,  1505,  3148,  6148,  1337,  1228,   790,\n",
       "        2570,   250,  1316,  1882,  6416,  6403,  1987,   760,  2603,\n",
       "        3380,  3990, 11560,  4380,  6761,  4280,  2325,  1048,  3160,\n",
       "        2483, 14179,  1797,  2511,  1274,  5248,  3029,   428,   976,\n",
       "         841,  5771,  1555,  1285,  1299,  1271,   691,  5045,  2124,\n",
       "        2214, 12680,  2463,  1155,  3108,  2901,  1655,  2812,  8065,\n",
       "        3275,  2223,  1480,  1371,  3535,  3509,  5711,  3872,  4933,\n",
       "        1940,   836,  1941,  2675,  2751,  6224,  5998,  1188,  6313,\n",
       "        1221,  2892,  3062,  2301,  7511,  1549,  1795,  7472,  9271,\n",
       "         590,   930,  9283,  1778,   907,   484,  9629,  3051,  3931,\n",
       "        7432,  1338,  1554, 15857,  1345,  1101,  3016,  2712,   731,\n",
       "        3780,  1602,  3966,  4165,  8335,  6681,  2375, 11816,  5084,\n",
       "        2327,   886,   601,  2957,  2611,  5179,  2993,  1943,  1559,\n",
       "        3422,  3976,  1249,  2235,  1471, 10875,   894,  3343,  3959,\n",
       "        3577,  5804,  2169,  2439,  2210,  2221,  2389,  3331,  7409,\n",
       "         652,  7678,  1343,   874,  3590,  1322,  3595,  1422,  6742,\n",
       "        7814,  9277,  2181,  1098,  4057,   795,  2825, 15672,  6614,\n",
       "        7824,  2442,  1829,  5800,  8947,  2606,  1592,  2186,  4153,\n",
       "        2625,  3485, 10477,  1278,  1107,  3763,  3711,  3594,  3195,\n",
       "        4454,  4736,  2991,  2142,  3161, 18424,  2848, 14896,  2359,\n",
       "        3345,  1817, 12749,  1366,  2002,  6872,   697,  1049, 10297,\n",
       "        1867,  1747,  1670,  1224,   522,  1498,   745,  2063,  6288,\n",
       "        6842,  3527,   929,  1455,  1845,  8358,  2859,  3621,  2145,\n",
       "        4113, 10974,  1893,  3656,  4006,  3069,  1740,  2353,  3556,\n",
       "        2397,   454,  1715,  2520,  3568,  7166,  3939,  1514,  7393,\n",
       "        1193,  7297,  2831,   753,  2427,  2538,  8386,  4844,  2923,\n",
       "        8229,  1433,  6289,  6579,  3565,  1569,  1936,  2390,  1736,\n",
       "        3857,   804,  4576])"
      ]
     },
     "execution_count": 109,
     "metadata": {},
     "output_type": "execute_result"
    }
   ],
   "source": [
    "df['Credit amount'].unique()"
   ]
  },
  {
   "cell_type": "code",
   "execution_count": 110,
   "metadata": {},
   "outputs": [
    {
     "data": {
      "text/plain": [
       "array(['own', 'free', 'rent'], dtype=object)"
      ]
     },
     "execution_count": 110,
     "metadata": {},
     "output_type": "execute_result"
    }
   ],
   "source": [
    "df['Housing'].unique()"
   ]
  },
  {
   "cell_type": "markdown",
   "metadata": {},
   "source": [
    "The variables of interest are Housing and Credit Amount. Both of these variables do not have missing values, and all the values with .unique seem reasonable. The only variables with automatically detected missing values are Savings accounts and checking accounts. However, since these are not our variables of interest, there is no reason to drop these rows as it may show bias/negatively our dataset analysis. Dropping them would significantly reduce the dataset size (by 394 observations), which could impact the analysis.\n"
   ]
  },
  {
   "cell_type": "markdown",
   "metadata": {},
   "source": [
    "Checking for unique values:"
   ]
  },
  {
   "cell_type": "code",
   "execution_count": 111,
   "metadata": {},
   "outputs": [
    {
     "data": {
      "text/plain": [
       "array([67, 22, 49, 45, 53, 35, 61, 28, 25, 24, 60, 32, 44, 31, 48, 26, 36,\n",
       "       39, 42, 34, 63, 27, 30, 57, 33, 37, 58, 23, 29, 52, 50, 46, 51, 41,\n",
       "       40, 66, 47, 56, 54, 20, 21, 38, 70, 65, 74, 68, 43, 55, 64, 75, 19,\n",
       "       62, 59])"
      ]
     },
     "execution_count": 111,
     "metadata": {},
     "output_type": "execute_result"
    }
   ],
   "source": [
    "df['Age'].unique()"
   ]
  },
  {
   "cell_type": "code",
   "execution_count": 112,
   "metadata": {},
   "outputs": [
    {
     "data": {
      "text/plain": [
       "array(['male', 'female'], dtype=object)"
      ]
     },
     "execution_count": 112,
     "metadata": {},
     "output_type": "execute_result"
    }
   ],
   "source": [
    "df['Sex'].unique()"
   ]
  },
  {
   "cell_type": "code",
   "execution_count": 113,
   "metadata": {},
   "outputs": [
    {
     "data": {
      "text/plain": [
       "array([2, 1, 3, 0])"
      ]
     },
     "execution_count": 113,
     "metadata": {},
     "output_type": "execute_result"
    }
   ],
   "source": [
    "df['Job'].unique()"
   ]
  },
  {
   "cell_type": "code",
   "execution_count": 114,
   "metadata": {},
   "outputs": [
    {
     "data": {
      "text/plain": [
       "array([nan, 'little', 'quite rich', 'rich', 'moderate'], dtype=object)"
      ]
     },
     "execution_count": 114,
     "metadata": {},
     "output_type": "execute_result"
    }
   ],
   "source": [
    "df['Saving accounts'].unique()"
   ]
  },
  {
   "cell_type": "code",
   "execution_count": 115,
   "metadata": {},
   "outputs": [
    {
     "data": {
      "text/plain": [
       "array(['little', 'moderate', nan, 'rich'], dtype=object)"
      ]
     },
     "execution_count": 115,
     "metadata": {},
     "output_type": "execute_result"
    }
   ],
   "source": [
    "df['Checking account'].unique()"
   ]
  },
  {
   "cell_type": "code",
   "execution_count": 116,
   "metadata": {},
   "outputs": [
    {
     "data": {
      "text/plain": [
       "array([ 6, 48, 12, 42, 24, 36, 30, 15,  9, 10,  7, 60, 18, 45, 11, 27,  8,\n",
       "       54, 20, 14, 33, 21, 16,  4, 47, 13, 22, 39, 28,  5, 26, 72, 40])"
      ]
     },
     "execution_count": 116,
     "metadata": {},
     "output_type": "execute_result"
    }
   ],
   "source": [
    "df['Duration'].unique()"
   ]
  },
  {
   "cell_type": "code",
   "execution_count": 117,
   "metadata": {},
   "outputs": [
    {
     "data": {
      "text/plain": [
       "array(['radio/TV', 'education', 'furniture/equipment', 'car', 'business',\n",
       "       'domestic appliances', 'repairs', 'vacation/others'], dtype=object)"
      ]
     },
     "execution_count": 117,
     "metadata": {},
     "output_type": "execute_result"
    }
   ],
   "source": [
    "df['Purpose'].unique()"
   ]
  },
  {
   "cell_type": "code",
   "execution_count": 118,
   "metadata": {},
   "outputs": [
    {
     "data": {
      "text/plain": [
       "0        little\n",
       "1      moderate\n",
       "2           NaN\n",
       "3        little\n",
       "4        little\n",
       "         ...   \n",
       "995         NaN\n",
       "996      little\n",
       "997         NaN\n",
       "998      little\n",
       "999    moderate\n",
       "Name: Checking account, Length: 1000, dtype: object"
      ]
     },
     "execution_count": 118,
     "metadata": {},
     "output_type": "execute_result"
    }
   ],
   "source": [
    "df['Checking account']"
   ]
  },
  {
   "cell_type": "code",
   "execution_count": 119,
   "metadata": {},
   "outputs": [
    {
     "data": {
      "text/plain": [
       "Sex\n",
       "male      690\n",
       "female    310\n",
       "Name: count, dtype: int64"
      ]
     },
     "execution_count": 119,
     "metadata": {},
     "output_type": "execute_result"
    }
   ],
   "source": [
    "df['Sex'].value_counts()\n"
   ]
  },
  {
   "cell_type": "code",
   "execution_count": 120,
   "metadata": {},
   "outputs": [
    {
     "data": {
      "text/plain": [
       "Housing\n",
       "own     713\n",
       "rent    179\n",
       "free    108\n",
       "Name: count, dtype: int64"
      ]
     },
     "execution_count": 120,
     "metadata": {},
     "output_type": "execute_result"
    }
   ],
   "source": [
    "df['Housing'].value_counts()\n"
   ]
  },
  {
   "cell_type": "code",
   "execution_count": 121,
   "metadata": {},
   "outputs": [
    {
     "data": {
      "text/plain": [
       "Checking account\n",
       "little      274\n",
       "moderate    269\n",
       "rich         63\n",
       "Name: count, dtype: int64"
      ]
     },
     "execution_count": 121,
     "metadata": {},
     "output_type": "execute_result"
    }
   ],
   "source": [
    "df['Checking account'].value_counts()"
   ]
  },
  {
   "cell_type": "code",
   "execution_count": 122,
   "metadata": {},
   "outputs": [
    {
     "data": {
      "text/plain": [
       "Purpose\n",
       "car                    337\n",
       "radio/TV               280\n",
       "furniture/equipment    181\n",
       "business                97\n",
       "education               59\n",
       "repairs                 22\n",
       "domestic appliances     12\n",
       "vacation/others         12\n",
       "Name: count, dtype: int64"
      ]
     },
     "execution_count": 122,
     "metadata": {},
     "output_type": "execute_result"
    }
   ],
   "source": [
    "df['Purpose'].value_counts()"
   ]
  },
  {
   "cell_type": "markdown",
   "metadata": {},
   "source": [
    "The categories like repairs, domestic appliances, and vacation/others are considered uncommon in the Purpose variable because they each represent less than 5% of the total observations, making them statistically insignificant on their own. This low frequency means there just isn’t enough data to draw out some reliable conclusions about these categories individually. Therefore, grouping them into a broader category like other increases the sample size and creates a more balanced representation, and in turn improves the reliability and clarity of the analysis."
   ]
  },
  {
   "cell_type": "code",
   "execution_count": 123,
   "metadata": {},
   "outputs": [],
   "source": [
    "uncommon_categories = ['repairs', 'domestic appliances', 'vacation/others']\n",
    "df['Purpose'] = df['Purpose'].replace(uncommon_categories, 'other')\n"
   ]
  },
  {
   "cell_type": "code",
   "execution_count": 124,
   "metadata": {},
   "outputs": [
    {
     "data": {
      "text/plain": [
       "Purpose\n",
       "car                    337\n",
       "radio/TV               280\n",
       "furniture/equipment    181\n",
       "business                97\n",
       "education               59\n",
       "other                   46\n",
       "Name: count, dtype: int64"
      ]
     },
     "execution_count": 124,
     "metadata": {},
     "output_type": "execute_result"
    }
   ],
   "source": [
    "df['Purpose'].value_counts()"
   ]
  },
  {
   "cell_type": "code",
   "execution_count": 125,
   "metadata": {},
   "outputs": [
    {
     "data": {
      "text/plain": [
       "<Axes: >"
      ]
     },
     "execution_count": 125,
     "metadata": {},
     "output_type": "execute_result"
    },
    {
     "data": {
      "image/png": "[encoded data removed]",
      "text/plain": [
       "<Figure size 640x480 with 1 Axes>"
      ]
     },
     "metadata": {},
     "output_type": "display_data"
    }
   ],
   "source": [
    "df.Age.plot.box()"
   ]
  },
  {
   "cell_type": "code",
   "execution_count": 126,
   "metadata": {},
   "outputs": [
    {
     "data": {
      "text/plain": [
       "count    1000.000000\n",
       "mean       35.546000\n",
       "std        11.375469\n",
       "min        19.000000\n",
       "25%        27.000000\n",
       "50%        33.000000\n",
       "75%        42.000000\n",
       "max        75.000000\n",
       "Name: Age, dtype: float64"
      ]
     },
     "execution_count": 126,
     "metadata": {},
     "output_type": "execute_result"
    }
   ],
   "source": [
    "df['Age'].describe()"
   ]
  },
  {
   "cell_type": "markdown",
   "metadata": {},
   "source": [
    "Distribution Observation for Age:\n",
    "The distribution is fairly normal, with most applicants between 20 and 60 years old. The upper and lower extremes—applicants under 20 or over 70 years—might be considered outliers because they represent relatively uncommon age groups for credit applicants.I chose not to remove these outliers because they may represent legitimate applicants with specific financial needs. For example, younger applicants might be students, and older applicants may have retirement-related financial needs. Removing them could lead to biased results, excluding potentially important applicant profiles that may differ significantly from the average."
   ]
  },
  {
   "cell_type": "code",
   "execution_count": 127,
   "metadata": {},
   "outputs": [
    {
     "data": {
      "text/plain": [
       "<Axes: >"
      ]
     },
     "execution_count": 127,
     "metadata": {},
     "output_type": "execute_result"
    },
    {
     "data": {
      "image/png": "[encoded data removed]",
      "text/plain": [
       "<Figure size 640x480 with 1 Axes>"
      ]
     },
     "metadata": {},
     "output_type": "display_data"
    }
   ],
   "source": [
    "df['Duration'].plot.box()"
   ]
  },
  {
   "cell_type": "code",
   "execution_count": 128,
   "metadata": {},
   "outputs": [
    {
     "data": {
      "text/plain": [
       "count    1000.000000\n",
       "mean       20.903000\n",
       "std        12.058814\n",
       "min         4.000000\n",
       "25%        12.000000\n",
       "50%        18.000000\n",
       "75%        24.000000\n",
       "max        72.000000\n",
       "Name: Duration, dtype: float64"
      ]
     },
     "execution_count": 128,
     "metadata": {},
     "output_type": "execute_result"
    }
   ],
   "source": [
    "df['Duration'].describe()"
   ]
  },
  {
   "cell_type": "markdown",
   "metadata": {},
   "source": [
    "Distribution Observation for Duration: The Duration variable ranges from 4 to 72 months, with most values clustered between 12 and 36 months.A few observations extend to 60 or more months, which are less common in this dataset. I decided to keep these outliers because they might reflect different types of credit products or borrower preferences that are important for understanding the full spectrum of loan behaviors."
   ]
  },
  {
   "cell_type": "code",
   "execution_count": 129,
   "metadata": {},
   "outputs": [
    {
     "data": {
      "text/plain": [
       "<Axes: >"
      ]
     },
     "execution_count": 129,
     "metadata": {},
     "output_type": "execute_result"
    },
    {
     "data": {
      "image/png": "[encoded data removed]",
      "text/plain": [
       "<Figure size 640x480 with 1 Axes>"
      ]
     },
     "metadata": {},
     "output_type": "display_data"
    }
   ],
   "source": [
    "df['Credit amount'].plot.box()"
   ]
  },
  {
   "cell_type": "code",
   "execution_count": 130,
   "metadata": {},
   "outputs": [
    {
     "data": {
      "text/plain": [
       "count     1000.000000\n",
       "mean      3271.258000\n",
       "std       2822.736876\n",
       "min        250.000000\n",
       "25%       1365.500000\n",
       "50%       2319.500000\n",
       "75%       3972.250000\n",
       "max      18424.000000\n",
       "Name: Credit amount, dtype: float64"
      ]
     },
     "execution_count": 130,
     "metadata": {},
     "output_type": "execute_result"
    }
   ],
   "source": [
    "df['Credit amount'].describe()"
   ]
  },
  {
   "cell_type": "markdown",
   "metadata": {},
   "source": [
    "Distribution Observation for Credit Amount: The Credit amount variable has a wide range, from 250 to 18,424, with most values concentrated below 5,000. Many outliers are above the the 7500 mark, which is significantly higher than the typical range of credit amounts requested. I chose to retain these outliers because they may represent legitimate cases, such as applicants requesting large loans for business or high-value purchases. Removing them would ignore these specific segments and could bias the results by focusing only on lower-value loans."
   ]
  },
  {
   "cell_type": "markdown",
   "metadata": {},
   "source": [
    "Additinal Data Cleaning Needs:\n",
    "\n",
    "Data Type Conversion:\n",
    "Issue: Some columns were not in the correct data type, such as Unnamed: 0, which is an identifier and should not be treated as a numerical variable.\n",
    "Action Taken: I did not use this column in the analysis since it does not provide meaningful information and is only an index.\n",
    "Reason: Ignoring this column avoids unnecessary noise in the data and keeps the focus on relevant variables."
   ]
  },
  {
   "cell_type": "markdown",
   "metadata": {},
   "source": [
    "## 4. Summarizing Data\n",
    "Research Question: \"What is the relationship between the Housing status (own, rent, free) and the Credit amount requested by applicants in the German Credit Data?\""
   ]
  },
  {
   "cell_type": "code",
   "execution_count": 131,
   "metadata": {},
   "outputs": [
    {
     "data": {
      "text/html": [
       "<div>\n",
       "<style scoped>\n",
       "    .dataframe tbody tr th:only-of-type {\n",
       "        vertical-align: middle;\n",
       "    }\n",
       "\n",
       "    .dataframe tbody tr th {\n",
       "        vertical-align: top;\n",
       "    }\n",
       "\n",
       "    .dataframe thead th {\n",
       "        text-align: right;\n",
       "    }\n",
       "</style>\n",
       "<table border=\"1\" class=\"dataframe\">\n",
       "  <thead>\n",
       "    <tr style=\"text-align: right;\">\n",
       "      <th>Housing</th>\n",
       "      <th>free</th>\n",
       "      <th>own</th>\n",
       "      <th>rent</th>\n",
       "    </tr>\n",
       "    <tr>\n",
       "      <th>Credit amount</th>\n",
       "      <th></th>\n",
       "      <th></th>\n",
       "      <th></th>\n",
       "    </tr>\n",
       "  </thead>\n",
       "  <tbody>\n",
       "    <tr>\n",
       "      <th>250</th>\n",
       "      <td>0</td>\n",
       "      <td>1</td>\n",
       "      <td>0</td>\n",
       "    </tr>\n",
       "    <tr>\n",
       "      <th>276</th>\n",
       "      <td>0</td>\n",
       "      <td>0</td>\n",
       "      <td>1</td>\n",
       "    </tr>\n",
       "    <tr>\n",
       "      <th>338</th>\n",
       "      <td>0</td>\n",
       "      <td>1</td>\n",
       "      <td>0</td>\n",
       "    </tr>\n",
       "    <tr>\n",
       "      <th>339</th>\n",
       "      <td>0</td>\n",
       "      <td>1</td>\n",
       "      <td>0</td>\n",
       "    </tr>\n",
       "    <tr>\n",
       "      <th>343</th>\n",
       "      <td>0</td>\n",
       "      <td>1</td>\n",
       "      <td>0</td>\n",
       "    </tr>\n",
       "    <tr>\n",
       "      <th>...</th>\n",
       "      <td>...</td>\n",
       "      <td>...</td>\n",
       "      <td>...</td>\n",
       "    </tr>\n",
       "    <tr>\n",
       "      <th>15653</th>\n",
       "      <td>0</td>\n",
       "      <td>1</td>\n",
       "      <td>0</td>\n",
       "    </tr>\n",
       "    <tr>\n",
       "      <th>15672</th>\n",
       "      <td>0</td>\n",
       "      <td>1</td>\n",
       "      <td>0</td>\n",
       "    </tr>\n",
       "    <tr>\n",
       "      <th>15857</th>\n",
       "      <td>0</td>\n",
       "      <td>1</td>\n",
       "      <td>0</td>\n",
       "    </tr>\n",
       "    <tr>\n",
       "      <th>15945</th>\n",
       "      <td>0</td>\n",
       "      <td>0</td>\n",
       "      <td>1</td>\n",
       "    </tr>\n",
       "    <tr>\n",
       "      <th>18424</th>\n",
       "      <td>0</td>\n",
       "      <td>1</td>\n",
       "      <td>0</td>\n",
       "    </tr>\n",
       "  </tbody>\n",
       "</table>\n",
       "<p>921 rows × 3 columns</p>\n",
       "</div>"
      ],
      "text/plain": [
       "Housing        free  own  rent\n",
       "Credit amount                 \n",
       "250               0    1     0\n",
       "276               0    0     1\n",
       "338               0    1     0\n",
       "339               0    1     0\n",
       "343               0    1     0\n",
       "...             ...  ...   ...\n",
       "15653             0    1     0\n",
       "15672             0    1     0\n",
       "15857             0    1     0\n",
       "15945             0    0     1\n",
       "18424             0    1     0\n",
       "\n",
       "[921 rows x 3 columns]"
      ]
     },
     "execution_count": 131,
     "metadata": {},
     "output_type": "execute_result"
    }
   ],
   "source": [
    "pd.crosstab(df['Credit amount'], df['Housing'])"
   ]
  },
  {
   "cell_type": "markdown",
   "metadata": {},
   "source": [
    "Two Way Table Description:\n",
    "\n",
    "General Pattern:\n",
    "The table indicates that certain credit amounts are specific to particular housing categories, which may suggest different financial behaviors and needs based on housing status.\n",
    "\n",
    "Overall, this two-way table provides a detailed view of how specific credit amounts are distributed across different housing categories, highlighting any concentration or uniqueness in the data."
   ]
  },
  {
   "cell_type": "code",
   "execution_count": 132,
   "metadata": {},
   "outputs": [
    {
     "data": {
      "text/plain": [
       "Text(0.5, 1.0, 'Boxplot of Credit Amount by Housing Status')"
      ]
     },
     "execution_count": 132,
     "metadata": {},
     "output_type": "execute_result"
    },
    {
     "data": {
      "image/png": "[encoded data removed]",
      "text/plain": [
       "<Figure size 640x480 with 1 Axes>"
      ]
     },
     "metadata": {},
     "output_type": "display_data"
    }
   ],
   "source": [
    "df.plot.box(column='Credit amount', by='Housing')\n",
    "plt.title('Boxplot of Credit Amount by Housing Status')"
   ]
  },
  {
   "cell_type": "markdown",
   "metadata": {},
   "source": [
    "Boxplot Description:\n",
    "\n",
    "Free Housing:\n",
    "The median credit amount is the highest among the categories, with a wide interquartile range (IQR) and some significant outliers.\n",
    "This suggests that applicants in free housing have diverse credit needs, ranging from low to very high amounts.\n",
    "\n",
    "Own and Rent Housing:\n",
    "These categories show lower medians and narrower IQRs compared to free, with a few outliers in both.\n",
    "The distributions are more concentrated, indicating more consistent credit requests."
   ]
  },
  {
   "cell_type": "code",
   "execution_count": 133,
   "metadata": {},
   "outputs": [
    {
     "data": {
      "text/plain": [
       "Text(0.5, 1.0, 'Violin Plot of Credit Amount by Housing Status')"
      ]
     },
     "execution_count": 133,
     "metadata": {},
     "output_type": "execute_result"
    },
    {
     "data": {
      "image/png": "[encoded data removed]",
      "text/plain": [
       "<Figure size 640x480 with 1 Axes>"
      ]
     },
     "metadata": {},
     "output_type": "display_data"
    }
   ],
   "source": [
    "sns.violinplot(x='Housing', y='Credit amount', data = df)\n",
    "plt.title('Violin Plot of Credit Amount by Housing Status')"
   ]
  },
  {
   "cell_type": "markdown",
   "metadata": {},
   "source": [
    "Violin Plot Description:\n",
    "\n",
    "Free Housing:\n",
    "The violin plot shows a wide and bimodal distribution, with a higher concentration around two separate ranges of credit amounts.\n",
    "This indicates that there are two distinct groups within this category: one requesting lower amounts and another requesting significantly higher amounts.\n",
    "\n",
    "Own and Rent Housing:\n",
    "The distributions are more symmetrical and concentrated, with peaks around lower credit amounts.\n",
    "This suggests that most applicants in these categories have more predictable and moderate credit needs."
   ]
  },
  {
   "cell_type": "code",
   "execution_count": 134,
   "metadata": {},
   "outputs": [
    {
     "data": {
      "text/html": [
       "<div>\n",
       "<style scoped>\n",
       "    .dataframe tbody tr th:only-of-type {\n",
       "        vertical-align: middle;\n",
       "    }\n",
       "\n",
       "    .dataframe tbody tr th {\n",
       "        vertical-align: top;\n",
       "    }\n",
       "\n",
       "    .dataframe thead th {\n",
       "        text-align: right;\n",
       "    }\n",
       "</style>\n",
       "<table border=\"1\" class=\"dataframe\">\n",
       "  <thead>\n",
       "    <tr style=\"text-align: right;\">\n",
       "      <th></th>\n",
       "      <th>Housing</th>\n",
       "      <th>mean</th>\n",
       "      <th>median</th>\n",
       "      <th>std</th>\n",
       "    </tr>\n",
       "  </thead>\n",
       "  <tbody>\n",
       "    <tr>\n",
       "      <th>0</th>\n",
       "      <td>free</td>\n",
       "      <td>4906.212963</td>\n",
       "      <td>3800.5</td>\n",
       "      <td>3667.003819</td>\n",
       "    </tr>\n",
       "    <tr>\n",
       "      <th>1</th>\n",
       "      <td>own</td>\n",
       "      <td>3060.939691</td>\n",
       "      <td>2238.0</td>\n",
       "      <td>2659.576809</td>\n",
       "    </tr>\n",
       "    <tr>\n",
       "      <th>2</th>\n",
       "      <td>rent</td>\n",
       "      <td>3122.553073</td>\n",
       "      <td>2301.0</td>\n",
       "      <td>2553.519070</td>\n",
       "    </tr>\n",
       "  </tbody>\n",
       "</table>\n",
       "</div>"
      ],
      "text/plain": [
       "  Housing         mean  median          std\n",
       "0    free  4906.212963  3800.5  3667.003819\n",
       "1     own  3060.939691  2238.0  2659.576809\n",
       "2    rent  3122.553073  2301.0  2553.519070"
      ]
     },
     "execution_count": 134,
     "metadata": {},
     "output_type": "execute_result"
    }
   ],
   "source": [
    "credit_summary_stats = df.groupby('Housing')['Credit amount'].agg(['mean', 'median', 'std']).reset_index()\n",
    "credit_summary_stats"
   ]
  },
  {
   "cell_type": "markdown",
   "metadata": {},
   "source": [
    "Applicants with free housing request, on average, higher credit amounts (mean: 4906) compared to those who own (mean: 3061) or rent (mean: 3123). This suggests that individuals in free housing may have different financial circumstances or needs that lead them to request higher loans."
   ]
  },
  {
   "cell_type": "markdown",
   "metadata": {},
   "source": [
    "Free housing could imply:\n",
    "\n",
    "Living with Family or Friends: The individual may be living rent-free in a property owned by family members or friends.\n",
    "\n",
    "Employer-Provided Housing: The individual could be living in accommodation provided by their employer as part of their compensation package.\n",
    "\n",
    "Government or Social Housing: The person may have access to housing provided by the government or a charitable organization, often at little to no cost.\n",
    "\n",
    "Own Property without Mortgage: The individual may own their home outright without any mortgage, so they do not have housing expenses in the form of rent or mortgage payments.\n"
   ]
  },
  {
   "cell_type": "markdown",
   "metadata": {},
   "source": [
    "Overall analysis: The analysis demonstrates a clear relationship between housing status and the amount of credit requested. Applicants with free housing tend to request larger and more varied credit amounts, likely due to differing financial circumstances compared to those who rent or own their housing. Individuals with free housing often have increased disposable income and fewer financial obligations, allowing them to request higher loan amounts for major expenses or investments, as they are perceived as having a greater capacity to repay without the burden of rent or mortgage payments. This insight can be valuable for lenders to better understand the credit needs and risks associated with different housing statuses, allowing for more tailored financial products and risk management strategies."
   ]
  },
  {
   "cell_type": "markdown",
   "metadata": {},
   "source": [
    "## Conclusion:"
   ]
  },
  {
   "cell_type": "markdown",
   "metadata": {},
   "source": [
    "I explored the relationship between housing status(free,own, rent) with the amount of credit requested in the German credit risk dataset. I wanted to explore the relationship to better understand how housing status affects the amount of credit requested can reveal different risk levels among borrowers. For example, people who own their homes may have different financial needs compared to those who rent or live in free housing. To continue I did not drop any missing values due to our variables of interest not having missing values. The only variables to have missing values(Saving account, Checking account) which I decided not to drop as it was apart of 394 of the 1000 observations therefore would bias the data. I noticed in the variable Purpose(Why they asked for the loan) that there were a couple of line items like repairs, domestic appliances, and vacation/others are considered uncommon in the Purpose variable because they each represent less than 5% of the total observations, making them statistically insignificant on their own. This low frequency means there just isn’t enough data to draw out some reliable conclusions about these categories individually. Therefore, grouping them into a broader category like other increases the sample size and creates a more balanced representation, and in turn improves the reliability and clarity of the analysis. One key limitation of this analysis is the absence of other relevant financial variables, such as income or employment status, which could provide additional insights into the ability to repay loans. Furthermore, while outliers were retained to maintain the dataset's integrity, they may have introduced some skewness, particularly for the free housing group. Another challenge was interpreting \"free housing,\" as it encompasses various living situations that may influence financial behavior differently. These limitations suggest caution when making strong claims, as the results are based on housing status alone, without considering other critical financial factors. Future analyses could include additional variables such as income, employment status, or credit history to better understand the financial profiles of applicants. Research could also explore how other factors, like age or loan purpose, interact with housing status to influence credit amounts. Additionally, predictive modeling could be applied to assess the likelihood of loan approval or default based on housing status and other financial indicators. This would provide a more comprehensive view of credit risk and behavior across different applicant groups."
   ]
  },
  {
   "cell_type": "markdown",
   "metadata": {},
   "source": [
    "## Future Project\n",
    "In the future, I could use this analysis to create a tool that uses predictive modelling to assess the likelihood of loan approval based on certain financial indicators."
   ]
  }
 ],
 "metadata": {
  "kernelspec": {
   "display_name": "Python 3 (ipykernel)",
   "language": "python",
   "name": "python3"
  },
  "language_info": {
   "codemirror_mode": {
    "name": "ipython",
    "version": 3
   },
   "file_extension": ".py",
   "mimetype": "text/x-python",
   "name": "python",
   "nbconvert_exporter": "python",
   "pygments_lexer": "ipython3",
   "version": "3.11.7"
  }
 },
 "nbformat": 4,
 "nbformat_minor": 4
}
